{
 "cells": [
  {
   "cell_type": "code",
   "execution_count": null,
   "metadata": {},
   "outputs": [],
   "source": [
    "# based on https://til.simonwillison.net/llms/python-react-pattern"
   ]
  },
  {
   "cell_type": "code",
   "execution_count": 1,
   "metadata": {},
   "outputs": [],
   "source": [
    "import openai\n",
    "import re\n",
    "import httpx\n",
    "import os\n",
    "# from dotenv import load_dotenv\n",
    "\n",
    "# _ = load_dotenv()\n",
    "# from openai import OpenAI\n",
    "from openai import OpenAI\n",
    "client = OpenAI(base_url=\"http://10.2.125.37:1234/v1\", api_key=\"lm-studio\")"
   ]
  },
  {
   "cell_type": "code",
   "execution_count": 2,
   "metadata": {},
   "outputs": [
    {
     "name": "stdout",
     "output_type": "stream",
     "text": [
      "ChatCompletionMessage(content='It seems like you\\'re trying to start with a classic \"hello world\" program, which is often used as a simple example in programming.\\n\\nHere\\'s a basic Python code that prints \"Hello World\":\\n\\n```python\\nprint(\"Hello World\")\\n```\\n\\nIf you want to create an executable file for this code (e.g., on Windows or macOS), here are the steps:\\n\\n1.  Open your preferred text editor or IDE.\\n2.  Type in `print(\"Hello World\")` and save it with a `.py` extension, e.g., `hello_world.py`.\\n3.  On most operating systems, you can run this code by opening a terminal or command prompt, navigating to the directory where you saved the file, and typing `python hello_world.py`.\\n\\nHowever, if you\\'re looking for something more interactive or want to create a graphical interface, there are many other libraries (e.g., Tkinter, PyQt) that allow you to do so.\\n\\nLet me know what you\\'d like to achieve, and I can provide more tailored assistance!', role='assistant', function_call=None, tool_calls=None)\n"
     ]
    }
   ],
   "source": [
    "# chat_completion = client.chat.completions.create(\n",
    "#     model=\"gpt-3.5-turbo\",\n",
    "#     messages=[{\"role\": \"user\", \"content\": \"Hello world\"}]\n",
    "# )\n",
    "\n",
    "chat_completion = client.chat.completions.create(\n",
    "  model=\"lmstudio-community/Meta-Llama-3.1-8B-Instruct-GGUF\",\n",
    "  messages=[\n",
    "    # {\"role\": \"system\", \"content\": \"Always answer in rhymes.\"},\n",
    "    {\"role\": \"user\", \"content\": \"Hello world\"}\n",
    "  ],\n",
    "  temperature=0.7,\n",
    ")\n",
    "\n",
    "print(chat_completion.choices[0].message)"
   ]
  }
 ],
 "metadata": {
  "kernelspec": {
   "display_name": "virtualenv",
   "language": "python",
   "name": "python3"
  },
  "language_info": {
   "codemirror_mode": {
    "name": "ipython",
    "version": 3
   },
   "file_extension": ".py",
   "mimetype": "text/x-python",
   "name": "python",
   "nbconvert_exporter": "python",
   "pygments_lexer": "ipython3",
   "version": "3.11.5"
  }
 },
 "nbformat": 4,
 "nbformat_minor": 2
}
